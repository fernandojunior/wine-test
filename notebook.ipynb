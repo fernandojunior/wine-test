{
 "cells": [
  {
   "cell_type": "markdown",
   "metadata": {},
   "source": [
    "# Data Exploration"
   ]
  },
  {
   "cell_type": "markdown",
   "metadata": {},
   "source": [
    "## Overview\n",
    "\n",
    "In this section we will perform a first overview on wine dataset.\n",
    "It's hard to know what to do if you don't know what you're working with, so let's load our dataset and take a peek. We will try to figure out the dataset size, number of features and the column types (features + target)."
   ]
  },
  {
   "cell_type": "code",
   "execution_count": 1,
   "metadata": {},
   "outputs": [
    {
     "name": "stdout",
     "output_type": "stream",
     "text": [
      "Data read successfully!\n"
     ]
    },
    {
     "data": {
      "text/html": [
       "<div>\n",
       "<style scoped>\n",
       "    .dataframe tbody tr th:only-of-type {\n",
       "        vertical-align: middle;\n",
       "    }\n",
       "\n",
       "    .dataframe tbody tr th {\n",
       "        vertical-align: top;\n",
       "    }\n",
       "\n",
       "    .dataframe thead th {\n",
       "        text-align: right;\n",
       "    }\n",
       "</style>\n",
       "<table border=\"1\" class=\"dataframe\">\n",
       "  <thead>\n",
       "    <tr style=\"text-align: right;\">\n",
       "      <th></th>\n",
       "      <th>type</th>\n",
       "      <th>fixed acidity</th>\n",
       "      <th>volatile acidity</th>\n",
       "      <th>citric acid</th>\n",
       "      <th>residual sugar</th>\n",
       "      <th>chlorides</th>\n",
       "      <th>free sulfur dioxide</th>\n",
       "      <th>total sulfur dioxide</th>\n",
       "      <th>density</th>\n",
       "      <th>pH</th>\n",
       "      <th>sulphates</th>\n",
       "      <th>alcohol</th>\n",
       "      <th>quality</th>\n",
       "    </tr>\n",
       "  </thead>\n",
       "  <tbody>\n",
       "    <tr>\n",
       "      <th>0</th>\n",
       "      <td>White</td>\n",
       "      <td>7.0</td>\n",
       "      <td>0.27</td>\n",
       "      <td>0.36</td>\n",
       "      <td>20.7</td>\n",
       "      <td>0.045</td>\n",
       "      <td>45.0</td>\n",
       "      <td>170.0</td>\n",
       "      <td>1.0010</td>\n",
       "      <td>3.00</td>\n",
       "      <td>0.45</td>\n",
       "      <td>8.8</td>\n",
       "      <td>6</td>\n",
       "    </tr>\n",
       "    <tr>\n",
       "      <th>1</th>\n",
       "      <td>White</td>\n",
       "      <td>6.3</td>\n",
       "      <td>0.30</td>\n",
       "      <td>0.34</td>\n",
       "      <td>1.6</td>\n",
       "      <td>0.049</td>\n",
       "      <td>14.0</td>\n",
       "      <td>132.0</td>\n",
       "      <td>0.9940</td>\n",
       "      <td>3.30</td>\n",
       "      <td>0.49</td>\n",
       "      <td>9.5</td>\n",
       "      <td>6</td>\n",
       "    </tr>\n",
       "    <tr>\n",
       "      <th>2</th>\n",
       "      <td>White</td>\n",
       "      <td>8.1</td>\n",
       "      <td>0.28</td>\n",
       "      <td>0.40</td>\n",
       "      <td>6.9</td>\n",
       "      <td>0.050</td>\n",
       "      <td>30.0</td>\n",
       "      <td>97.0</td>\n",
       "      <td>0.9951</td>\n",
       "      <td>3.26</td>\n",
       "      <td>0.44</td>\n",
       "      <td>10.1</td>\n",
       "      <td>6</td>\n",
       "    </tr>\n",
       "    <tr>\n",
       "      <th>3</th>\n",
       "      <td>White</td>\n",
       "      <td>7.2</td>\n",
       "      <td>0.23</td>\n",
       "      <td>0.32</td>\n",
       "      <td>8.5</td>\n",
       "      <td>0.058</td>\n",
       "      <td>47.0</td>\n",
       "      <td>186.0</td>\n",
       "      <td>0.9956</td>\n",
       "      <td>3.19</td>\n",
       "      <td>0.40</td>\n",
       "      <td>9.9</td>\n",
       "      <td>6</td>\n",
       "    </tr>\n",
       "    <tr>\n",
       "      <th>4</th>\n",
       "      <td>White</td>\n",
       "      <td>7.2</td>\n",
       "      <td>0.23</td>\n",
       "      <td>0.32</td>\n",
       "      <td>8.5</td>\n",
       "      <td>0.058</td>\n",
       "      <td>47.0</td>\n",
       "      <td>186.0</td>\n",
       "      <td>0.9956</td>\n",
       "      <td>3.19</td>\n",
       "      <td>0.40</td>\n",
       "      <td>9.9</td>\n",
       "      <td>6</td>\n",
       "    </tr>\n",
       "  </tbody>\n",
       "</table>\n",
       "</div>"
      ],
      "text/plain": [
       "    type  fixed acidity  volatile acidity  citric acid  residual sugar  \\\n",
       "0  White            7.0              0.27         0.36            20.7   \n",
       "1  White            6.3              0.30         0.34             1.6   \n",
       "2  White            8.1              0.28         0.40             6.9   \n",
       "3  White            7.2              0.23         0.32             8.5   \n",
       "4  White            7.2              0.23         0.32             8.5   \n",
       "\n",
       "   chlorides  free sulfur dioxide  total sulfur dioxide  density    pH  \\\n",
       "0      0.045                 45.0                 170.0   1.0010  3.00   \n",
       "1      0.049                 14.0                 132.0   0.9940  3.30   \n",
       "2      0.050                 30.0                  97.0   0.9951  3.26   \n",
       "3      0.058                 47.0                 186.0   0.9956  3.19   \n",
       "4      0.058                 47.0                 186.0   0.9956  3.19   \n",
       "\n",
       "   sulphates alcohol  quality  \n",
       "0       0.45     8.8        6  \n",
       "1       0.49     9.5        6  \n",
       "2       0.44    10.1        6  \n",
       "3       0.40     9.9        6  \n",
       "4       0.40     9.9        6  "
      ]
     },
     "metadata": {},
     "output_type": "display_data"
    },
    {
     "name": "stdout",
     "output_type": "stream",
     "text": [
      "Total number of wines: 6497\n",
      "Number of features: 12\n"
     ]
    }
   ],
   "source": [
    "import numpy as np\n",
    "import pandas as pd\n",
    "from time import time\n",
    "\n",
    "%matplotlib inline\n",
    "\n",
    "# Read student data\n",
    "data = pd.read_csv(\"data.csv\", delimiter=\";\")\n",
    "print(\"Data read successfully!\")\n",
    "\n",
    "# Calculate number of wines in dataset\n",
    "n_wines = data.shape[0]\n",
    "\n",
    "# Calculate number of features\n",
    "n_features = data.shape[1] - 1\n",
    "\n",
    "# Print the results\n",
    "display(data.head())\n",
    "\n",
    "print(\"Total number of wines: {}\".format(n_wines))\n",
    "print(\"Number of features: {}\".format(n_features))\n"
   ]
  },
  {
   "cell_type": "markdown",
   "metadata": {},
   "source": [
    "**Attribute types**:\n",
    "\n",
    "We have the following column types in the dataset:\n",
    "  - `type`: Categorical (nominal)\n",
    "  - `fixed acidity`: Numeric (continuous)\n",
    "  - `volatile acidity`: Numeric (continuous)\n",
    "  - `citric acid`: Numeric (continuous)\n",
    "  - `residual sugar`: Numeric (continuous)\n",
    "  - `chlorides`: Numeric (continuous)\n",
    "  - `free sulfur dioxide`: Numeric (continuous)\n",
    "  - `total sulfur dioxide`: Numeric (continuous)\n",
    "  - `density`: Numeric (continuous)\n",
    "  - `pH`: Numeric (continuous)\n",
    "  - `sulphates`: Numeric (continuous)\n",
    "  - `alcohol`: Numeric (continuous)\n",
    "  - `quality`: Numeric (ordinal)\n",
    "\n"
   ]
  },
  {
   "cell_type": "markdown",
   "metadata": {},
   "source": [
    "# Preparing data\n",
    "\n",
    "In this section, we will prepare the data for modeling, training and testing.\n",
    "\n",
    "## Separete feature and target columns\n",
    "\n",
    "It is often the case that the data contains non-numeric features. This can be a problem, as most machine learning algorithms expect numeric data to perform computations with.\n",
    "\n",
    "The code cell below will separate the wine data into feature and target columns to see if any features are non-numeric."
   ]
  },
  {
   "cell_type": "code",
   "execution_count": 2,
   "metadata": {},
   "outputs": [
    {
     "name": "stdout",
     "output_type": "stream",
     "text": [
      "\n",
      "Target column: quality\n",
      "\n",
      "Feature types:\n",
      "type                     object\n",
      "fixed acidity           float64\n",
      "volatile acidity        float64\n",
      "citric acid             float64\n",
      "residual sugar          float64\n",
      "chlorides               float64\n",
      "free sulfur dioxide     float64\n",
      "total sulfur dioxide    float64\n",
      "density                 float64\n",
      "pH                      float64\n",
      "sulphates               float64\n",
      "alcohol                  object\n",
      "dtype: object\n",
      "\n",
      "Target type:\n",
      "int64\n",
      "\n",
      "Classes from `type` feature:\n",
      "['White' 'Red']\n"
     ]
    }
   ],
   "source": [
    "# Extract feature columns\n",
    "feature_cols = list(data.columns[:-1])\n",
    "\n",
    "# Extract target column 'quality'\n",
    "target_col = data.columns[-1] \n",
    "\n",
    "# Show the list of columns\n",
    "print(\"\\nTarget column: {}\".format(target_col))\n",
    "\n",
    "# Separate the data into feature data and target data (X_all and y_all, respectively)\n",
    "X_all = data[feature_cols]\n",
    "y_all = data[target_col]\n",
    "\n",
    "print(\"\\nFeature types:\")\n",
    "print(X_all.dtypes)\n",
    "\n",
    "print(\"\\nTarget type:\")\n",
    "print(y_all.dtypes)\n",
    "\n",
    "print(\"\\nClasses from `type` feature:\")\n",
    "print(data['type'].unique())"
   ]
  },
  {
   "cell_type": "markdown",
   "metadata": {},
   "source": [
    "## Preprocess features\n",
    "\n",
    "As we can see, there two non-numeric features that need to be converted: `type` and `alcohol`.\n",
    "\n",
    "The `type` feature only has two classes (`['White' 'Red']`), so it can be reasonably converted into 1/0 (binary) values.\n",
    "\n",
    "The `alcohol` feature is actually a numeric feature, but some rows are wrong non-numeric values, for example `'110.666.666.666.667'`, `'956.666.666.666.667'`, `'923.333.333.333.333'` and so on. Therefore, we will parse the values of this feature into numeric values and replace the wrong values with the mean of all of the values for the feature ([reference](https://machinelearningmastery.com/handle-missing-data-python/)).\n",
    "\n",
    "The code cell below performs the preprocessing routine discussed in this section.\n",
    " \n"
   ]
  },
  {
   "cell_type": "code",
   "execution_count": 3,
   "metadata": {},
   "outputs": [],
   "source": [
    "\n",
    "def preprocess_features(X):\n",
    "    ''' Preprocesses the data and converts non-numeric binary variables into\n",
    "        binary (0/1) variables.'''\n",
    "\n",
    "    # Initialize new output DataFrame\n",
    "    output = pd.DataFrame(index = X.index)\n",
    "\n",
    "    # Investigate each feature column for the data\n",
    "    for col, col_data in X.iteritems():\n",
    "\n",
    "        # If type, replace all 'White'/'Red' values with 1/0\n",
    "        if col == 'type' and col_data.dtype == object:\n",
    "            col_data = col_data.replace(['White', 'Red'], [1, 0])\n",
    "        \n",
    "        # If alcohol, parse it values to numberic and coerce the convertion errors\n",
    "        if col == 'alcohol' and col_data.dtype == object:\n",
    "            col_data = pd.to_numeric(col_data, errors='coerce')\n",
    "\n",
    "        # Collect the revised columns\n",
    "        output = output.join(col_data)\n",
    "\n",
    "    # handle NaN values by inputting the mean\n",
    "    output.fillna(output.mean(), inplace=True)\n",
    "    \n",
    "    return output\n",
    "\n",
    "X_all = preprocess_features(X_all)"
   ]
  },
  {
   "cell_type": "markdown",
   "metadata": {},
   "source": [
    "## Outliers and Feature scaling"
   ]
  },
  {
   "cell_type": "markdown",
   "metadata": {},
   "source": [
    "We've successfully cleaned our data and converted it into a form which is easily consumable by machine learning algorithms. However, at this point we should consider whether or not some method of data normalization / scaling or outlier removal will be beneficial for our algorithm.\n",
    "\n",
    "Feature normalization / scaling allows for all features to contribute equally (or more aptly, it allows for features to contribute relative to their importance rather than their scale).\n",
    "\n",
    "Outliers are extreme values that deviate from other observations on data , they may indicate a variability in a measurement, experimental errors or a novelty. In other words, an outlier is an observation that diverges from an overall pattern on a sample. Some machine learning are sensitive to outliers.\n",
    "\n",
    "The code cell below plots the boxplot for all features in dataset."
   ]
  },
  {
   "cell_type": "code",
   "execution_count": 4,
   "metadata": {},
   "outputs": [
    {
     "data": {
      "text/plain": [
       "<matplotlib.axes._subplots.AxesSubplot at 0x7f8b8511af98>"
      ]
     },
     "execution_count": 4,
     "metadata": {},
     "output_type": "execute_result"
    },
    {
     "data": {
      "image/png": "[encoded data removed]",
      "text/plain": [
       "<Figure size 432x288 with 1 Axes>"
      ]
     },
     "metadata": {},
     "output_type": "display_data"
    }
   ],
   "source": [
    "import seaborn as sns\n",
    "sns.boxplot(data=X_all, orient=\"h\", palette=\"Set2\")"
   ]
  },
  {
   "cell_type": "markdown",
   "metadata": {},
   "source": [
    "As we can see, the features contain many (extreme) outliers. The code cell bellow performs the outliers removal based on boxplot method and IQR factor (default == 1.5) ([reference](https://towardsdatascience.com/ways-to-detect-and-remove-the-outliers-404d16608dba)). In a later section, we will vary this factor to analyse the best threshold to remove the outliers."
   ]
  },
  {
   "cell_type": "code",
   "execution_count": 5,
   "metadata": {},
   "outputs": [
    {
     "name": "stdout",
     "output_type": "stream",
     "text": [
      "Number of outliers for IQR factor 1.5: 2192\n",
      "Number of outliers for IQR factor 3.5: 1737\n"
     ]
    }
   ],
   "source": [
    "def remove_outliers(X, y, factor=1.5):\n",
    "    X = X.copy()\n",
    "    y = y.copy()\n",
    "    features = X.columns\n",
    "    data = X.join(y)\n",
    "    Q1 = X.quantile(0.25)\n",
    "    Q3 = X.quantile(0.75)\n",
    "    IQR = Q3 - Q1    \n",
    "    is_outlier = (X < (Q1 - factor * IQR)) |(X > (Q3 + factor * IQR))\n",
    "    data = data[~(is_outlier).any(axis=1)]\n",
    "    return data[features], data[data.columns[-1]]\n",
    "\n",
    "X_all_noout, y_all_noout = remove_outliers(X_all, y_all)\n",
    "print(\"Number of outliers for IQR factor {}: {}\".format(1.5, X_all.shape[0] - X_all_noout.shape[0]))\n",
    "X_all_noout, y_all_noout = remove_outliers(X_all, y_all, factor=3.5)\n",
    "print(\"Number of outliers for IQR factor {}: {}\".format(3.5, X_all.shape[0] - X_all_noout.shape[0]))\n"
   ]
  },
  {
   "cell_type": "markdown",
   "metadata": {},
   "source": [
    "In the boxplot, the range of values varies widely between the features. Therefore, we will create a function to normalize features using min-max or standard methods so that each feature contributes proportionately in the same scale in the models."
   ]
  },
  {
   "cell_type": "code",
   "execution_count": 6,
   "metadata": {},
   "outputs": [],
   "source": [
    "from sklearn.preprocessing import MinMaxScaler, StandardScaler\n",
    "\n",
    "def scale(X, scaler_type='minmax'):\n",
    "    X = X.copy()\n",
    "    scaler = MinMaxScaler()\n",
    "    if scaler_type == 'minmax':\n",
    "        scaler = MinMaxScaler()\n",
    "    elif scaler_type == 'standard':\n",
    "        scaler = StandardScaler()\n",
    "\n",
    "    features = list(X.select_dtypes(include=['float64']).columns)\n",
    "    X[features] = scaler.fit_transform(X[features])\n",
    "    return X\n",
    "\n",
    "# print(\"Data normalized using min-max method:\")\n",
    "# display(scale(X_all).head())\n",
    "# print(\"Data normalized using standard method:\")\n",
    "# display(scale(X_all, scaler_type='standard').head())"
   ]
  },
  {
   "cell_type": "markdown",
   "metadata": {},
   "source": [
    "## Data balancing\n",
    "\n",
    "A very frequent problem in machine learning models is imbalanced dataset, because an imbalanced dataset may lead to inflated performance estimates ([reference](https://stats.stackexchange.com/questions/28029/training-a-decision-tree-against-unbalanced-data)). Therefore, We will analyse if the dataset response variable is balalanced or not."
   ]
  },
  {
   "cell_type": "code",
   "execution_count": 7,
   "metadata": {},
   "outputs": [
    {
     "name": "stdout",
     "output_type": "stream",
     "text": [
      "Plot for the counts of observations in each quality using bars.\n"
     ]
    },
    {
     "data": {
      "text/plain": [
       "<seaborn.axisgrid.FacetGrid at 0x7f8b82918a90>"
      ]
     },
     "execution_count": 7,
     "metadata": {},
     "output_type": "execute_result"
    },
    {
     "data": {
      "image/png": "[encoded data removed]",
      "text/plain": [
       "<Figure size 360x360 with 1 Axes>"
      ]
     },
     "metadata": {},
     "output_type": "display_data"
    }
   ],
   "source": [
    "print(\"Plot for the counts of observations in each quality using bars.\")\n",
    "#sns.catplot(\"quality\", data=data, hue='quality', kind=\"count\")\n",
    "sns.catplot(\"quality\", data=X_all_noout.join(y_all_noout), hue='quality', kind=\"count\")"
   ]
  },
  {
   "cell_type": "markdown",
   "metadata": {},
   "source": [
    "As we can see, the response variable `quality` is unbalanced and probably we'll have to handle it later."
   ]
  },
  {
   "cell_type": "markdown",
   "metadata": {},
   "source": [
    "## Model Performance Metrics\n",
    "With the predefined functions above, we will now import the three supervised learning models of our choice and run the train_predict function for each one. We will train and predict on each classifier for four different training set sizes: 25%, 50%, 75% and 100%. Hence, we should expect to have 12 different outputs below — 4 for each model using the varying training set sizes."
   ]
  },
  {
   "cell_type": "code",
   "execution_count": null,
   "metadata": {},
   "outputs": [],
   "source": [
    "# Import the three supervised learning models from sklearn\n",
    "from sklearn.ensemble import RandomForestClassifier\n",
    "from sklearn.neighbors import KNeighborsClassifier\n",
    "from sklearn.svm import SVC\n",
    "from sklearn.tree import DecisionTreeClassifier\n",
    "from sklearn.model_selection import cross_val_score\n",
    "from sklearn.naive_bayes import BernoulliNB\n",
    "from sklearn.discriminant_analysis import LinearDiscriminantAnalysis\n",
    "from sklearn.svm import LinearSVC\n",
    "from sklearn.linear_model import LogisticRegressionCV\n",
    "from sklearn.svm import SVC\n",
    "from sklearn.neural_network import MLPClassifier\n",
    "from sklearn.ensemble import GradientBoostingClassifier\n",
    "\n",
    "# Initialize the models\n",
    "clf_A = DecisionTreeClassifier(random_state=0)\n",
    "clf_B = KNeighborsClassifier(n_neighbors=1)\n",
    "clf_C = RandomForestClassifier(n_estimators=100)\n",
    "clf_D = BernoulliNB(alpha=1.0, binarize=0.0, class_prior=None, fit_prior=True)\n",
    "clf_E = LinearDiscriminantAnalysis()\n",
    "clf_F = LinearSVC(random_state=0)\n",
    "clf_G = LogisticRegressionCV(random_state=0, multi_class='multinomial')\n",
    "clf_H = SVC(gamma='auto')\n",
    "clf_I = MLPClassifier()\n",
    "clf_J = GradientBoostingClassifier()\n",
    "\n",
    "\n",
    "def cross_validation(classifier, X, y, cv=3, size_proportions=[0.25, 0.50, 0.75, 1.0]):\n",
    "    '''\n",
    "    Execute the 'cross_val_score' function for a classifier, each \n",
    "    training set size (25%, 50%, 75%, 100%), and each normalization type (min-max, standard)\n",
    "    '''\n",
    "    scores = []\n",
    "    total_size = X.shape[0]\n",
    "    sizes = map(lambda p: int(total_size * p), size_proportions)\n",
    "    X_minmax = scale(X, scaler_type='minmax')\n",
    "    X_standard = scale(X, scaler_type='standard')\n",
    "\n",
    "    for size in sizes:\n",
    "        scores1 = cross_val_score(classifier, X[:size], y[:size], cv=cv)\n",
    "        scores2 = cross_val_score(classifier, X_minmax[:size], y[:size], cv=cv)        \n",
    "        scores3 = cross_val_score(classifier, X_standard[:size], y[:size], cv=cv)\n",
    "        scores.append([size, np.mean(scores1), np.mean(scores2), np.mean(scores3)])\n",
    "    result = pd.DataFrame(scores, columns=['n', 'X', 'minmax(X)', 'standard(X)'])\n",
    "    return result\n",
    "\n",
    "# Execute the 'cross_validation' function for each classifier and each iqr_factor to remove outliers\n",
    "for clf in [clf_A, clf_B, clf_C, clf_D, clf_E, clf_F, clf_G, clf_H, clf_I, clf_J]:\n",
    "    print(\"\\n[{}]\\n\".format(clf.__class__.__name__))\n",
    "\n",
    "    print('Scores with outliers')\n",
    "    scores = cross_validation(clf, X_all, y_all)\n",
    "    display(scores)\n",
    "\n",
    "    for iqr_factor in [1.5, 2.0, 2.5, 3.0, 3.5, 4.0]:\n",
    "        print('Scores without outliers, IQR factor', iqr_factor)\n",
    "        X_nout, y_nout = remove_outliers(X_all, y_all, factor=iqr_factor)\n",
    "        scores = cross_validation(clf, X_nout, y_nout)\n",
    "        display(scores)\n"
   ]
  },
  {
   "cell_type": "code",
   "execution_count": null,
   "metadata": {},
   "outputs": [],
   "source": []
  },
  {
   "cell_type": "code",
   "execution_count": null,
   "metadata": {},
   "outputs": [],
   "source": []
  }
 ],
 "metadata": {
  "kernelspec": {
   "display_name": "Python 3",
   "language": "python",
   "name": "python3"
  },
  "language_info": {
   "codemirror_mode": {
    "name": "ipython",
    "version": 3
   },
   "file_extension": ".py",
   "mimetype": "text/x-python",
   "name": "python",
   "nbconvert_exporter": "python",
   "pygments_lexer": "ipython3",
   "version": "3.5.2"
  }
 },
 "nbformat": 4,
 "nbformat_minor": 2
}
